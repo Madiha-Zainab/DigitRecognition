{
 "cells": [
  {
   "cell_type": "code",
   "execution_count": 2,
   "metadata": {},
   "outputs": [
    {
     "name": "stdout",
     "output_type": "stream",
     "text": [
      "Train on 60000 samples, validate on 10000 samples\n",
      "Epoch 1/10\n",
      "60000/60000 [==============================] - 40s 674us/step - loss: 0.2265 - accuracy: 0.9331 - val_loss: 0.0698 - val_accuracy: 0.9792\n",
      "Epoch 2/10\n",
      "60000/60000 [==============================] - 40s 660us/step - loss: 0.0666 - accuracy: 0.9793 - val_loss: 0.0486 - val_accuracy: 0.9818\n",
      "Epoch 3/10\n",
      "60000/60000 [==============================] - 39s 656us/step - loss: 0.0478 - accuracy: 0.9852 - val_loss: 0.0369 - val_accuracy: 0.9877\n",
      "Epoch 4/10\n",
      "60000/60000 [==============================] - 40s 661us/step - loss: 0.0373 - accuracy: 0.9885 - val_loss: 0.0328 - val_accuracy: 0.9896\n",
      "Epoch 5/10\n",
      "60000/60000 [==============================] - 40s 658us/step - loss: 0.0305 - accuracy: 0.9901 - val_loss: 0.0373 - val_accuracy: 0.9879\n",
      "Epoch 6/10\n",
      "60000/60000 [==============================] - 40s 660us/step - loss: 0.0257 - accuracy: 0.9923 - val_loss: 0.0288 - val_accuracy: 0.9903\n",
      "Epoch 7/10\n",
      "60000/60000 [==============================] - 40s 659us/step - loss: 0.0219 - accuracy: 0.9932 - val_loss: 0.0288 - val_accuracy: 0.9899\n",
      "Epoch 8/10\n",
      "60000/60000 [==============================] - 39s 657us/step - loss: 0.0189 - accuracy: 0.9943 - val_loss: 0.0332 - val_accuracy: 0.9901\n",
      "Epoch 9/10\n",
      "60000/60000 [==============================] - 38s 640us/step - loss: 0.0156 - accuracy: 0.9949 - val_loss: 0.0330 - val_accuracy: 0.9894\n",
      "Epoch 10/10\n",
      "60000/60000 [==============================] - 39s 644us/step - loss: 0.0133 - accuracy: 0.9958 - val_loss: 0.0337 - val_accuracy: 0.9902\n",
      "10000/10000 [==============================] - 2s 189us/step\n",
      "CNN Error: 0.98%\n"
     ]
    }
   ],
   "source": [
    "#Training and testing dataset from keras\n",
    "\n",
    "#importing libraries\n",
    "from keras.datasets import mnist\n",
    "from keras.utils import to_categorical\n",
    "from keras import layers\n",
    "from keras import models\n",
    "import numpy as np\n",
    "\n",
    "#split dataset into train and test\n",
    "(X_train, y_train), (X_test, y_test) = mnist.load_data()\n",
    "\n",
    "#reshaping data, converting in grayscale, nomalizing data from 0-255 to 0-1\n",
    "X_train = X_train.reshape((X_train.shape[0], 28, 28, 1))\n",
    "X_train=X_train.astype('float32')/255\n",
    "X_test = X_test.reshape((X_test.shape[0], 28, 28, 1))\n",
    "X_test=X_test.astype('float32')/255\n",
    "\n",
    "#as multiclassification problem, using hot encoding\n",
    "y_train = to_categorical(y_train)\n",
    "y_test = to_categorical(y_test)\n",
    "\n",
    "#creating a function to build the model\n",
    "def baseline_model():\n",
    "    model = models.Sequential()\n",
    "    model.add(layers.Conv2D(32, (3, 3), activation='relu', input_shape=(28, 28, 1)))\n",
    "    model.add(layers.MaxPooling2D((2, 2)))\n",
    "    model.add(layers.Conv2D(16, (5,5), activation = \"relu\"))\n",
    "    model.add(layers.MaxPooling2D((2, 2)))\n",
    "    model.add(layers.Flatten())\n",
    "    model.add(layers.Dense(64, activation='relu'))\n",
    "    model.add(layers.Dense(10, activation='softmax'))\n",
    "    return model\n",
    "model = baseline_model()\n",
    "\n",
    "#compiling model\n",
    "model.compile(loss='categorical_crossentropy', optimizer='adam', metrics=['accuracy'])\n",
    "\n",
    "#training the model\n",
    "model.fit(X_train, y_train, validation_data=(X_test, y_test),epochs=10, batch_size=64)\n",
    "#saving model\n",
    "model.save('mnistCNN.h5')\n",
    "#evaluating the model\n",
    "scores = model.evaluate(X_test, y_test)\n",
    "print(\"CNN Error: %.2f%%\" % (100-scores[1]*100))\n",
    "\n"
   ]
  }
 ],
 "metadata": {
  "kernelspec": {
   "display_name": "Python 3",
   "language": "python",
   "name": "python3"
  },
  "language_info": {
   "codemirror_mode": {
    "name": "ipython",
    "version": 3
   },
   "file_extension": ".py",
   "mimetype": "text/x-python",
   "name": "python",
   "nbconvert_exporter": "python",
   "pygments_lexer": "ipython3",
   "version": "3.6.9"
  }
 },
 "nbformat": 4,
 "nbformat_minor": 2
}
