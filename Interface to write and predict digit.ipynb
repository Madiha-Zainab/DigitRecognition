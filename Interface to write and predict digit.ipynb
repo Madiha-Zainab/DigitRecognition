{
 "cells": [
  {
   "cell_type": "code",
   "execution_count": 2,
   "metadata": {},
   "outputs": [],
   "source": [
    "import numpy as np\n",
    "from tkinter import *\n",
    "\n",
    "btn = \"up\"\n",
    "xold, yold = None, None\n",
    "\n",
    "def clear_canvas():\n",
    "    drawing_area.delete(\"all\")\n",
    "\n",
    "def predict_number():\n",
    "    img=''\n",
    "    \n",
    "\n",
    "#start drawing when mouse button is pressed and moved    \n",
    "def btndown(event):\n",
    "    global btn\n",
    "    btn = \"down\"           \n",
    "\n",
    "#when mouse button is stopped to be press,setting variables to original parameters\n",
    "def btnup(event):\n",
    "    global btn, xold, yold\n",
    "    btn = \"up\"\n",
    "    xold = None         \n",
    "    yold = None\n",
    "\n",
    "#draw when mouse button is pressed and moving\n",
    "def moving(event):\n",
    "    if btn == \"down\":\n",
    "        global xold, yold\n",
    "        if xold is not None and yold is not None:\n",
    "            event.widget.create_line(xold,yold,event.x,event.y,capstyle=ROUND, smooth=TRUE,width=30)\n",
    "           \n",
    "        xold = event.x\n",
    "        yold = event.y"
   ]
  },
  {
   "cell_type": "code",
   "execution_count": 3,
   "metadata": {},
   "outputs": [],
   "source": [
    "interface = Tk()\n",
    "interface.title(\"Digit recognition\")\n",
    "drawing_area = Canvas(interface, bg='white', width=400, height=400)\n",
    "drawing_area.grid(row=0, columnspan=3)\n",
    "\n",
    "predict_button=Button(interface,text='Predict',height=2, width=12,font=(\"Calibri\",12),command=predict_number)###\n",
    "predict_button.grid(row=2,column=1)\n",
    "clear_button=Button(interface,text='Clear',height=2, width=12,font=(\"Calibri\",12),command= clear_canvas)\n",
    "clear_button.grid(row=2,column=0)\n",
    "\n",
    "drawing_area.bind(\"<Motion>\", moving)\n",
    "drawing_area.bind(\"<ButtonPress-1>\", btndown)\n",
    "drawing_area.bind(\"<ButtonRelease-1>\", btnup)\n",
    "interface.mainloop()"
   ]
  }
 ],
 "metadata": {
  "kernelspec": {
   "display_name": "Python 3",
   "language": "python",
   "name": "python3"
  },
  "language_info": {
   "codemirror_mode": {
    "name": "ipython",
    "version": 3
   },
   "file_extension": ".py",
   "mimetype": "text/x-python",
   "name": "python",
   "nbconvert_exporter": "python",
   "pygments_lexer": "ipython3",
   "version": "3.6.9"
  }
 },
 "nbformat": 4,
 "nbformat_minor": 2
}
